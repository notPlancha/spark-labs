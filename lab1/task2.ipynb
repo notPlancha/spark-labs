{
 "cells": [
  {
   "cell_type": "code",
   "execution_count": 25,
   "id": "7228f577",
   "metadata": {},
   "outputs": [
    {
     "data": {
      "text/plain": [
       "<pyspark.sql.connect.session.SparkSession at 0x2b21c4e77c0>"
      ]
     },
     "execution_count": 25,
     "metadata": {},
     "output_type": "execute_result"
    }
   ],
   "source": [
    "from pyspark.sql import SparkSession\n",
    "\n",
    "spark = SparkSession.builder \\\n",
    "  .remote(\"sc://192.168.1.7:15002\") \\\n",
    "  .appName(\"UDFTransformation\") \\\n",
    "  .config(\"spark.sql.ansi.enabled\", \"false\") \\\n",
    "  .getOrCreate()\n",
    "\n",
    "# limit() shows a nice HTML table in Jupyter, while show() prints plain text  \n",
    "spark.conf.set('spark.sql.repl.eagerEval.enabled', True)\n",
    "\n",
    "spark"
   ]
  },
  {
   "cell_type": "code",
   "execution_count": 26,
   "id": "c491899b",
   "metadata": {},
   "outputs": [
    {
     "data": {
      "text/html": [
       "<table border='1'>\n",
       "<tr><th>value</th></tr>\n",
       "<tr><td>4</td></tr>\n",
       "<tr><td>5</td></tr>\n",
       "<tr><td>6</td></tr>\n",
       "</table>\n"
      ],
      "text/plain": [
       "+-----+\n",
       "|value|\n",
       "+-----+\n",
       "|    4|\n",
       "|    5|\n",
       "|    6|\n",
       "+-----+"
      ]
     },
     "execution_count": 26,
     "metadata": {},
     "output_type": "execute_result"
    }
   ],
   "source": [
    "from pyspark.sql.functions import pandas_udf\n",
    "from pyspark.sql.types import IntegerType\n",
    "import pandas as pd\n",
    "import pyspark.pandas as ps\n",
    "\n",
    "def mult_by_3(x: int) -> int:\n",
    "  return x * 3\n",
    "\n",
    "# TODO THIS STEP IS NOT WITH PANDAS KEEP IN MIND\n",
    "@pandas_udf(IntegerType())\n",
    "def mult_by_3_udf(s: pd.Series) -> pd.Series:\n",
    "  return s * 3\n",
    "\n",
    "df = spark.createDataFrame([(4, ), (5, ), (6, )], ['value'])\n",
    "df"
   ]
  },
  {
   "cell_type": "code",
   "execution_count": 27,
   "id": "54d627dc",
   "metadata": {},
   "outputs": [
    {
     "data": {
      "text/html": [
       "<table border='1'>\n",
       "<tr><th>value</th><th>value_x3</th></tr>\n",
       "<tr><td>4</td><td>12</td></tr>\n",
       "<tr><td>5</td><td>15</td></tr>\n",
       "<tr><td>6</td><td>18</td></tr>\n",
       "</table>\n"
      ],
      "text/plain": [
       "+-----+--------+\n",
       "|value|value_x3|\n",
       "+-----+--------+\n",
       "|    4|      12|\n",
       "|    5|      15|\n",
       "|    6|      18|\n",
       "+-----+--------+"
      ]
     },
     "execution_count": 27,
     "metadata": {},
     "output_type": "execute_result"
    }
   ],
   "source": [
    "df.withColumn('value_x3', mult_by_3_udf(df.value))"
   ]
  },
  {
   "cell_type": "code",
   "execution_count": 4,
   "id": "ec2b571d",
   "metadata": {},
   "outputs": [],
   "source": [
    "import pandas"
   ]
  }
 ],
 "metadata": {
  "kernelspec": {
   "display_name": ".venv",
   "language": "python",
   "name": "python3"
  },
  "language_info": {
   "codemirror_mode": {
    "name": "ipython",
    "version": 3
   },
   "file_extension": ".py",
   "mimetype": "text/x-python",
   "name": "python",
   "nbconvert_exporter": "python",
   "pygments_lexer": "ipython3",
   "version": "3.10.17"
  }
 },
 "nbformat": 4,
 "nbformat_minor": 5
}
