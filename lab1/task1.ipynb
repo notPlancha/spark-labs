{
 "cells": [
  {
   "cell_type": "code",
   "execution_count": 1,
   "id": "80ff5101",
   "metadata": {},
   "outputs": [
    {
     "data": {
      "text/plain": [
       "<pyspark.sql.connect.session.SparkSession at 0x29256293a10>"
      ]
     },
     "execution_count": 1,
     "metadata": {},
     "output_type": "execute_result"
    }
   ],
   "source": [
    "from pyspark.sql import SparkSession\n",
    "\n",
    "spark = SparkSession.builder \\\n",
    "  .remote(\"sc://192.168.1.7:15002\") \\\n",
    "  .appName(\"RetailStoreInsights\") \\\n",
    "  .getOrCreate()\n",
    "\n",
    "# limit() shows a nice HTML table in Jupyter, while show() prints plain text  \n",
    "spark.conf.set('spark.sql.repl.eagerEval.enabled', True)\n",
    "\n",
    "spark"
   ]
  },
  {
   "cell_type": "code",
   "execution_count": 2,
   "id": "88244dd8",
   "metadata": {},
   "outputs": [
    {
     "data": {
      "text/html": [
       "<table border='1'>\n",
       "<tr><th>product_name</th><th>category</th><th>price</th><th>quantity</th></tr>\n",
       "<tr><td>Ulysses</td><td>Book</td><td>23.17</td><td>16</td></tr>\n",
       "<tr><td>Apple</td><td>Fruit</td><td>2.34</td><td>8</td></tr>\n",
       "<tr><td>Pineapple</td><td>Fruit</td><td>2.57</td><td>1</td></tr>\n",
       "<tr><td>Apple</td><td>Fruit</td><td>2.43</td><td>6</td></tr>\n",
       "<tr><td>To Kill a Mocking...</td><td>Book</td><td>24.14</td><td>19</td></tr>\n",
       "<tr><td>To Kill a Mocking...</td><td>Book</td><td>11.18</td><td>11</td></tr>\n",
       "<tr><td>Watermelon</td><td>Fruit</td><td>3.35</td><td>15</td></tr>\n",
       "<tr><td>Pride and Prejudice</td><td>Book</td><td>24.99</td><td>3</td></tr>\n",
       "<tr><td>To Kill a Mocking...</td><td>Book</td><td>21.82</td><td>17</td></tr>\n",
       "<tr><td>Moby Dick</td><td>Book</td><td>14.83</td><td>20</td></tr>\n",
       "</table>\n"
      ],
      "text/plain": [
       "+--------------------+--------+-----+--------+\n",
       "|        product_name|category|price|quantity|\n",
       "+--------------------+--------+-----+--------+\n",
       "|             Ulysses|    Book|23.17|      16|\n",
       "|               Apple|   Fruit| 2.34|       8|\n",
       "|           Pineapple|   Fruit| 2.57|       1|\n",
       "|               Apple|   Fruit| 2.43|       6|\n",
       "|To Kill a Mocking...|    Book|24.14|      19|\n",
       "|To Kill a Mocking...|    Book|11.18|      11|\n",
       "|          Watermelon|   Fruit| 3.35|      15|\n",
       "| Pride and Prejudice|    Book|24.99|       3|\n",
       "|To Kill a Mocking...|    Book|21.82|      17|\n",
       "|           Moby Dick|    Book|14.83|      20|\n",
       "+--------------------+--------+-----+--------+"
      ]
     },
     "execution_count": 2,
     "metadata": {},
     "output_type": "execute_result"
    }
   ],
   "source": [
    "from pyspark.sql import Row\n",
    "\n",
    "data = [\n",
    "  ('Ulysses', 'Book', 23.17, 16),\n",
    "  ('Apple', 'Fruit', 2.34, 8),\n",
    "  ('Pineapple', 'Fruit', 2.57, 1),\n",
    "  ('Apple', 'Fruit', 2.43, 6),\n",
    "  ('To Kill a Mockingbird', 'Book', 24.14, 19),\n",
    "  ('To Kill a Mockingbird', 'Book', 11.18, 11),\n",
    "  ('Watermelon', 'Fruit', 3.35, 15),\n",
    "  ('Pride and Prejudice', 'Book', 24.99, 3),\n",
    "  ('To Kill a Mockingbird', 'Book', 21.82, 17),\n",
    "  ('Moby Dick', 'Book', 14.83, 20),\n",
    "  ('Pride and Prejudice', 'Book', 5.03, 16),\n",
    "  ('Jane Eyre', 'Book', 20.40, 8),\n",
    "  ('Moby Dick', 'Book', 5.55, 20),\n",
    "  ('Don Quixote', 'Book', 19.75, 17),\n",
    "  ('Watermelon', 'Fruit', 2.31 , 9),\n",
    "  ('Hamlet', 'Book', 18.20, 12),\n",
    "  ('Mango', 'Fruit', 4.10, 7),\n",
    "  ('1984', 'Book', 16.75, 14),\n",
    "  ('Strawberry', 'Fruit', 1.90, 25),\n",
    "  ('War and Peace', 'Book', 22.50, 9),\n",
    "  ('Orange', 'Fruit', 3.05, 13),\n",
    "  ('The Great Gatsby', 'Book', 12.30, 10),\n",
    "  ('Peach', 'Fruit', 2.80, 11),\n",
    "  ('Grapes', 'Fruit', 2.60, 18),\n",
    "  ('Pride and Prejudice', 'Book', 9.50, 5)\n",
    "]\n",
    "\n",
    "df = spark.createDataFrame([\n",
    "  Row(product_name=row[0], category=row[1], price=row[2], quantity=row[3]) \n",
    "  for row in data\n",
    "], schema = 'product_name STRING, category STRING, price FLOAT, quantity SHORT')\n",
    "df.createOrReplaceTempView(\"retail_sales\") # give it a name for sql\n",
    "df.limit(10)"
   ]
  },
  {
   "cell_type": "code",
   "execution_count": 3,
   "id": "7bb78909",
   "metadata": {},
   "outputs": [
    {
     "name": "stdout",
     "output_type": "stream",
     "text": [
      "root\n",
      " |-- product_name: string (nullable = true)\n",
      " |-- category: string (nullable = true)\n",
      " |-- price: float (nullable = true)\n",
      " |-- quantity: short (nullable = true)\n",
      "\n"
     ]
    }
   ],
   "source": [
    "df.printSchema()"
   ]
  },
  {
   "cell_type": "code",
   "execution_count": 4,
   "id": "af6bdd4e",
   "metadata": {},
   "outputs": [
    {
     "data": {
      "text/html": [
       "<table border='1'>\n",
       "<tr><th>product_name</th><th>category</th><th>price</th><th>quantity</th></tr>\n",
       "<tr><td>Watermelon</td><td>Fruit</td><td>2.31</td><td>9</td></tr>\n",
       "<tr><td>Apple</td><td>Fruit</td><td>2.34</td><td>8</td></tr>\n",
       "<tr><td>Apple</td><td>Fruit</td><td>2.43</td><td>6</td></tr>\n",
       "<tr><td>Pineapple</td><td>Fruit</td><td>2.57</td><td>1</td></tr>\n",
       "<tr><td>Grapes</td><td>Fruit</td><td>2.6</td><td>18</td></tr>\n",
       "<tr><td>Peach</td><td>Fruit</td><td>2.8</td><td>11</td></tr>\n",
       "<tr><td>Orange</td><td>Fruit</td><td>3.05</td><td>13</td></tr>\n",
       "<tr><td>Watermelon</td><td>Fruit</td><td>3.35</td><td>15</td></tr>\n",
       "<tr><td>Mango</td><td>Fruit</td><td>4.1</td><td>7</td></tr>\n",
       "<tr><td>Pride and Prejudice</td><td>Book</td><td>5.03</td><td>16</td></tr>\n",
       "<tr><td>Moby Dick</td><td>Book</td><td>5.55</td><td>20</td></tr>\n",
       "<tr><td>Pride and Prejudice</td><td>Book</td><td>9.5</td><td>5</td></tr>\n",
       "<tr><td>To Kill a Mocking...</td><td>Book</td><td>11.18</td><td>11</td></tr>\n",
       "<tr><td>The Great Gatsby</td><td>Book</td><td>12.3</td><td>10</td></tr>\n",
       "<tr><td>Moby Dick</td><td>Book</td><td>14.83</td><td>20</td></tr>\n",
       "<tr><td>1984</td><td>Book</td><td>16.75</td><td>14</td></tr>\n",
       "<tr><td>Hamlet</td><td>Book</td><td>18.2</td><td>12</td></tr>\n",
       "<tr><td>Don Quixote</td><td>Book</td><td>19.75</td><td>17</td></tr>\n",
       "<tr><td>Jane Eyre</td><td>Book</td><td>20.4</td><td>8</td></tr>\n",
       "<tr><td>To Kill a Mocking...</td><td>Book</td><td>21.82</td><td>17</td></tr>\n",
       "</table>\n",
       "only showing top 20 rows\n"
      ],
      "text/plain": [
       "+--------------------+--------+-----+--------+\n",
       "|        product_name|category|price|quantity|\n",
       "+--------------------+--------+-----+--------+\n",
       "|          Watermelon|   Fruit| 2.31|       9|\n",
       "|               Apple|   Fruit| 2.34|       8|\n",
       "|               Apple|   Fruit| 2.43|       6|\n",
       "|           Pineapple|   Fruit| 2.57|       1|\n",
       "|              Grapes|   Fruit|  2.6|      18|\n",
       "|               Peach|   Fruit|  2.8|      11|\n",
       "|              Orange|   Fruit| 3.05|      13|\n",
       "|          Watermelon|   Fruit| 3.35|      15|\n",
       "|               Mango|   Fruit|  4.1|       7|\n",
       "| Pride and Prejudice|    Book| 5.03|      16|\n",
       "|           Moby Dick|    Book| 5.55|      20|\n",
       "| Pride and Prejudice|    Book|  9.5|       5|\n",
       "|To Kill a Mocking...|    Book|11.18|      11|\n",
       "|    The Great Gatsby|    Book| 12.3|      10|\n",
       "|           Moby Dick|    Book|14.83|      20|\n",
       "|                1984|    Book|16.75|      14|\n",
       "|              Hamlet|    Book| 18.2|      12|\n",
       "|         Don Quixote|    Book|19.75|      17|\n",
       "|           Jane Eyre|    Book| 20.4|       8|\n",
       "|To Kill a Mocking...|    Book|21.82|      17|\n",
       "+--------------------+--------+-----+--------+\n",
       "only showing top 20 rows"
      ]
     },
     "execution_count": 4,
     "metadata": {},
     "output_type": "execute_result"
    }
   ],
   "source": [
    "spark.sql(\"\"\"\n",
    "  select * from retail_sales\n",
    "  where price > 2\n",
    "  order by price\n",
    "\"\"\")"
   ]
  },
  {
   "cell_type": "code",
   "execution_count": 5,
   "id": "efe3852c",
   "metadata": {},
   "outputs": [
    {
     "data": {
      "text/html": [
       "<table border='1'>\n",
       "<tr><th>category</th><th>category_count</th></tr>\n",
       "<tr><td>Book</td><td>15</td></tr>\n",
       "<tr><td>Fruit</td><td>10</td></tr>\n",
       "</table>\n"
      ],
      "text/plain": [
       "+--------+--------------+\n",
       "|category|category_count|\n",
       "+--------+--------------+\n",
       "|    Book|            15|\n",
       "|   Fruit|            10|\n",
       "+--------+--------------+"
      ]
     },
     "execution_count": 5,
     "metadata": {},
     "output_type": "execute_result"
    }
   ],
   "source": [
    "# https://spark.apache.org/docs/latest/sql-pipe-syntax.html\n",
    "spark.sql(\"\"\"\n",
    "  from retail_sales\n",
    "  |> aggregate count(*) as category_count\n",
    "     group by category\n",
    "\"\"\")"
   ]
  },
  {
   "cell_type": "code",
   "execution_count": 6,
   "id": "1b21136f",
   "metadata": {},
   "outputs": [
    {
     "data": {
      "text/html": [
       "<table border='1'>\n",
       "<tr><th>product_name</th><th>avg_price</th></tr>\n",
       "<tr><td>Pineapple</td><td>2.57</td></tr>\n",
       "<tr><td>To Kill a Mocking...</td><td>19.05</td></tr>\n",
       "<tr><td>Ulysses</td><td>23.17</td></tr>\n",
       "<tr><td>Apple</td><td>2.38</td></tr>\n",
       "<tr><td>Jane Eyre</td><td>20.4</td></tr>\n",
       "<tr><td>Moby Dick</td><td>10.19</td></tr>\n",
       "<tr><td>Watermelon</td><td>2.83</td></tr>\n",
       "<tr><td>Pride and Prejudice</td><td>13.17</td></tr>\n",
       "<tr><td>1984</td><td>16.75</td></tr>\n",
       "<tr><td>Mango</td><td>4.1</td></tr>\n",
       "<tr><td>Don Quixote</td><td>19.75</td></tr>\n",
       "<tr><td>Hamlet</td><td>18.2</td></tr>\n",
       "<tr><td>Orange</td><td>3.05</td></tr>\n",
       "<tr><td>Peach</td><td>2.8</td></tr>\n",
       "<tr><td>The Great Gatsby</td><td>12.3</td></tr>\n",
       "<tr><td>Grapes</td><td>2.6</td></tr>\n",
       "<tr><td>Strawberry</td><td>1.9</td></tr>\n",
       "<tr><td>War and Peace</td><td>22.5</td></tr>\n",
       "</table>\n"
      ],
      "text/plain": [
       "+--------------------+---------+\n",
       "|        product_name|avg_price|\n",
       "+--------------------+---------+\n",
       "|           Pineapple|     2.57|\n",
       "|To Kill a Mocking...|    19.05|\n",
       "|             Ulysses|    23.17|\n",
       "|               Apple|     2.38|\n",
       "|           Jane Eyre|     20.4|\n",
       "|           Moby Dick|    10.19|\n",
       "|          Watermelon|     2.83|\n",
       "| Pride and Prejudice|    13.17|\n",
       "|                1984|    16.75|\n",
       "|               Mango|      4.1|\n",
       "|         Don Quixote|    19.75|\n",
       "|              Hamlet|     18.2|\n",
       "|              Orange|     3.05|\n",
       "|               Peach|      2.8|\n",
       "|    The Great Gatsby|     12.3|\n",
       "|              Grapes|      2.6|\n",
       "|          Strawberry|      1.9|\n",
       "|       War and Peace|     22.5|\n",
       "+--------------------+---------+"
      ]
     },
     "execution_count": 6,
     "metadata": {},
     "output_type": "execute_result"
    }
   ],
   "source": [
    "spark.sql(\"\"\"\n",
    "  from retail_sales\n",
    "  |> aggregate avg(price) as avg_price\n",
    "     group by product_name\n",
    "  |> set avg_price = round(avg_price, 2)\n",
    "\"\"\")"
   ]
  },
  {
   "cell_type": "code",
   "execution_count": 7,
   "id": "7da836fb",
   "metadata": {},
   "outputs": [
    {
     "data": {
      "text/html": [
       "<table border='1'>\n",
       "<tr><th>product_name</th><th>discounted_price</th><th>original_price</th></tr>\n",
       "<tr><td>Ulysses</td><td>20.85</td><td>23.17</td></tr>\n",
       "<tr><td>Apple</td><td>2.11</td><td>2.34</td></tr>\n",
       "<tr><td>Pineapple</td><td>2.31</td><td>2.57</td></tr>\n",
       "<tr><td>Apple</td><td>2.19</td><td>2.43</td></tr>\n",
       "<tr><td>To Kill a Mocking...</td><td>21.73</td><td>24.14</td></tr>\n",
       "<tr><td>To Kill a Mocking...</td><td>10.06</td><td>11.18</td></tr>\n",
       "<tr><td>Watermelon</td><td>3.01</td><td>3.35</td></tr>\n",
       "<tr><td>Pride and Prejudice</td><td>22.49</td><td>24.99</td></tr>\n",
       "<tr><td>To Kill a Mocking...</td><td>19.64</td><td>21.82</td></tr>\n",
       "<tr><td>Moby Dick</td><td>13.35</td><td>14.83</td></tr>\n",
       "<tr><td>Pride and Prejudice</td><td>4.53</td><td>5.03</td></tr>\n",
       "<tr><td>Jane Eyre</td><td>18.36</td><td>20.4</td></tr>\n",
       "<tr><td>Moby Dick</td><td>5.0</td><td>5.55</td></tr>\n",
       "<tr><td>Don Quixote</td><td>17.78</td><td>19.75</td></tr>\n",
       "<tr><td>Watermelon</td><td>2.08</td><td>2.31</td></tr>\n",
       "<tr><td>Hamlet</td><td>16.38</td><td>18.2</td></tr>\n",
       "<tr><td>Mango</td><td>3.69</td><td>4.1</td></tr>\n",
       "<tr><td>1984</td><td>15.08</td><td>16.75</td></tr>\n",
       "<tr><td>Strawberry</td><td>1.71</td><td>1.9</td></tr>\n",
       "<tr><td>War and Peace</td><td>20.25</td><td>22.5</td></tr>\n",
       "</table>\n",
       "only showing top 20 rows\n"
      ],
      "text/plain": [
       "+--------------------+----------------+--------------+\n",
       "|        product_name|discounted_price|original_price|\n",
       "+--------------------+----------------+--------------+\n",
       "|             Ulysses|           20.85|         23.17|\n",
       "|               Apple|            2.11|          2.34|\n",
       "|           Pineapple|            2.31|          2.57|\n",
       "|               Apple|            2.19|          2.43|\n",
       "|To Kill a Mocking...|           21.73|         24.14|\n",
       "|To Kill a Mocking...|           10.06|         11.18|\n",
       "|          Watermelon|            3.01|          3.35|\n",
       "| Pride and Prejudice|           22.49|         24.99|\n",
       "|To Kill a Mocking...|           19.64|         21.82|\n",
       "|           Moby Dick|           13.35|         14.83|\n",
       "| Pride and Prejudice|            4.53|          5.03|\n",
       "|           Jane Eyre|           18.36|          20.4|\n",
       "|           Moby Dick|             5.0|          5.55|\n",
       "|         Don Quixote|           17.78|         19.75|\n",
       "|          Watermelon|            2.08|          2.31|\n",
       "|              Hamlet|           16.38|          18.2|\n",
       "|               Mango|            3.69|           4.1|\n",
       "|                1984|           15.08|         16.75|\n",
       "|          Strawberry|            1.71|           1.9|\n",
       "|       War and Peace|           20.25|          22.5|\n",
       "+--------------------+----------------+--------------+\n",
       "only showing top 20 rows"
      ]
     },
     "execution_count": 7,
     "metadata": {},
     "output_type": "execute_result"
    }
   ],
   "source": [
    "spark.sql(\"\"\"\n",
    "  from retail_sales\n",
    "  |> extend price - (price * 0.1) as discounted_price\n",
    "  |> set discounted_price = round(discounted_price, 2)\n",
    "  |> select product_name, discounted_price, price as original_price\n",
    "\"\"\")"
   ]
  },
  {
   "cell_type": "code",
   "execution_count": 8,
   "id": "994854bd",
   "metadata": {},
   "outputs": [
    {
     "data": {
      "text/html": [
       "<table border='1'>\n",
       "<tr><th>n_sold_total</th></tr>\n",
       "<tr><td>310</td></tr>\n",
       "</table>\n"
      ],
      "text/plain": [
       "+------------+\n",
       "|n_sold_total|\n",
       "+------------+\n",
       "|         310|\n",
       "+------------+"
      ]
     },
     "execution_count": 8,
     "metadata": {},
     "output_type": "execute_result"
    }
   ],
   "source": [
    "spark.sql(\"\"\"\n",
    "  from retail_sales\n",
    "  |> aggregate sum(quantity) as n_sold_total\n",
    "\"\"\")"
   ]
  },
  {
   "cell_type": "code",
   "execution_count": 9,
   "id": "9d81f330",
   "metadata": {},
   "outputs": [
    {
     "data": {
      "text/html": [
       "<table border='1'>\n",
       "<tr><th>category</th><th>n_sold</th></tr>\n",
       "<tr><td>Book</td><td>197</td></tr>\n",
       "<tr><td>Fruit</td><td>113</td></tr>\n",
       "</table>\n"
      ],
      "text/plain": [
       "+--------+------+\n",
       "|category|n_sold|\n",
       "+--------+------+\n",
       "|    Book|   197|\n",
       "|   Fruit|   113|\n",
       "+--------+------+"
      ]
     },
     "execution_count": 9,
     "metadata": {},
     "output_type": "execute_result"
    }
   ],
   "source": [
    "spark.sql(\"\"\"\n",
    "  from retail_sales\n",
    "  |> aggregate sum(quantity) as n_sold\n",
    "     group by category\n",
    "\"\"\")"
   ]
  },
  {
   "cell_type": "code",
   "execution_count": 10,
   "id": "0b155f9c",
   "metadata": {},
   "outputs": [
    {
     "data": {
      "text/html": [
       "<table border='1'>\n",
       "<tr><th>category</th><th>revenue</th></tr>\n",
       "<tr><td>Book</td><td>3211.2000007629395</td></tr>\n",
       "<tr><td>Fruit</td><td>300.3599935770035</td></tr>\n",
       "</table>\n"
      ],
      "text/plain": [
       "+--------+------------------+\n",
       "|category|           revenue|\n",
       "+--------+------------------+\n",
       "|    Book|3211.2000007629395|\n",
       "|   Fruit| 300.3599935770035|\n",
       "+--------+------------------+"
      ]
     },
     "execution_count": 10,
     "metadata": {},
     "output_type": "execute_result"
    }
   ],
   "source": [
    "spark.sql(\"\"\"\n",
    "  from retail_sales\n",
    "  |> aggregate sum(price * quantity) as revenue\n",
    "     group by category\n",
    "\"\"\")"
   ]
  },
  {
   "cell_type": "code",
   "execution_count": 11,
   "id": "26b3e5bd",
   "metadata": {},
   "outputs": [
    {
     "data": {
      "text/html": [
       "<table border='1'>\n",
       "<tr><th>category</th><th>product_name</th><th>n_sold</th></tr>\n",
       "<tr><td>Book</td><td>To Kill a Mocking...</td><td>47</td></tr>\n",
       "<tr><td>Book</td><td>Moby Dick</td><td>40</td></tr>\n",
       "<tr><td>Fruit</td><td>Strawberry</td><td>25</td></tr>\n",
       "<tr><td>Fruit</td><td>Watermelon</td><td>24</td></tr>\n",
       "<tr><td>Book</td><td>Pride and Prejudice</td><td>24</td></tr>\n",
       "<tr><td>Fruit</td><td>Grapes</td><td>18</td></tr>\n",
       "<tr><td>Book</td><td>Don Quixote</td><td>17</td></tr>\n",
       "<tr><td>Book</td><td>Ulysses</td><td>16</td></tr>\n",
       "<tr><td>Fruit</td><td>Apple</td><td>14</td></tr>\n",
       "<tr><td>Book</td><td>1984</td><td>14</td></tr>\n",
       "<tr><td>Fruit</td><td>Orange</td><td>13</td></tr>\n",
       "<tr><td>Book</td><td>Hamlet</td><td>12</td></tr>\n",
       "<tr><td>Fruit</td><td>Peach</td><td>11</td></tr>\n",
       "<tr><td>Book</td><td>The Great Gatsby</td><td>10</td></tr>\n",
       "<tr><td>Book</td><td>War and Peace</td><td>9</td></tr>\n",
       "<tr><td>Book</td><td>Jane Eyre</td><td>8</td></tr>\n",
       "<tr><td>Fruit</td><td>Mango</td><td>7</td></tr>\n",
       "<tr><td>Fruit</td><td>Pineapple</td><td>1</td></tr>\n",
       "</table>\n"
      ],
      "text/plain": [
       "+--------+--------------------+------+\n",
       "|category|        product_name|n_sold|\n",
       "+--------+--------------------+------+\n",
       "|    Book|To Kill a Mocking...|    47|\n",
       "|    Book|           Moby Dick|    40|\n",
       "|   Fruit|          Strawberry|    25|\n",
       "|   Fruit|          Watermelon|    24|\n",
       "|    Book| Pride and Prejudice|    24|\n",
       "|   Fruit|              Grapes|    18|\n",
       "|    Book|         Don Quixote|    17|\n",
       "|    Book|             Ulysses|    16|\n",
       "|   Fruit|               Apple|    14|\n",
       "|    Book|                1984|    14|\n",
       "|   Fruit|              Orange|    13|\n",
       "|    Book|              Hamlet|    12|\n",
       "|   Fruit|               Peach|    11|\n",
       "|    Book|    The Great Gatsby|    10|\n",
       "|    Book|       War and Peace|     9|\n",
       "|    Book|           Jane Eyre|     8|\n",
       "|   Fruit|               Mango|     7|\n",
       "|   Fruit|           Pineapple|     1|\n",
       "+--------+--------------------+------+"
      ]
     },
     "execution_count": 11,
     "metadata": {},
     "output_type": "execute_result"
    }
   ],
   "source": [
    "spark.sql(\"\"\"\n",
    "  from retail_sales\n",
    "  |> aggregate sum(quantity) as n_sold\n",
    "     group by category, product_name\n",
    "  |> order by n_sold desc\n",
    "\"\"\")"
   ]
  }
 ],
 "metadata": {
  "kernelspec": {
   "display_name": "spark-lab1",
   "language": "python",
   "name": "python3"
  },
  "language_info": {
   "codemirror_mode": {
    "name": "ipython",
    "version": 3
   },
   "file_extension": ".py",
   "mimetype": "text/x-python",
   "name": "python",
   "nbconvert_exporter": "python",
   "pygments_lexer": "ipython3",
   "version": "3.13.2"
  }
 },
 "nbformat": 4,
 "nbformat_minor": 5
}
